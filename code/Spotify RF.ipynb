{
 "cells": [
  {
   "cell_type": "code",
   "execution_count": 1,
   "metadata": {},
   "outputs": [],
   "source": [
    "import matplotlib.pyplot as plt\n",
    "%matplotlib inline\n",
    "import matplotlib.cm as cm\n",
    "import numpy as np\n",
    "import random\n",
    "import pandas as pd\n",
    "import itertools\n",
    "from itertools import cycle\n",
    "pd.set_option('display.max_columns', None)\n",
    "\n",
    "import seaborn as sns\n",
    "\n",
    "from sqlalchemy import create_engine\n",
    "engine = create_engine(\"sqlite:///class1.db\")\n",
    "data = pd.read_sql('''SELECT * FROM spotify\n",
    "                   WHERE genre != 'Dark Trap' AND genre != 'Trap Metal' AND genre != 'trap' AND genre != 'Rap' AND genre != 'Hiphop' AND genre != 'RnB';''', engine)\n",
    "\n",
    "from sklearn.model_selection import train_test_split\n",
    "from sklearn.tree import DecisionTreeClassifier\n",
    "from sklearn.ensemble import RandomForestClassifier\n",
    "from sklearn.linear_model import LogisticRegression\n",
    "from sklearn.preprocessing import LabelEncoder\n",
    "from sklearn.preprocessing import StandardScaler\n",
    "from sklearn.metrics import roc_curve, roc_auc_score, auc, f1_score, accuracy_score, confusion_matrix"
   ]
  },
  {
   "cell_type": "markdown",
   "metadata": {},
   "source": [
    "## Random Forest"
   ]
  },
  {
   "cell_type": "code",
   "execution_count": 2,
   "metadata": {
    "scrolled": false
   },
   "outputs": [
    {
     "data": {
      "text/html": [
       "<div>\n",
       "<style scoped>\n",
       "    .dataframe tbody tr th:only-of-type {\n",
       "        vertical-align: middle;\n",
       "    }\n",
       "\n",
       "    .dataframe tbody tr th {\n",
       "        vertical-align: top;\n",
       "    }\n",
       "\n",
       "    .dataframe thead th {\n",
       "        text-align: right;\n",
       "    }\n",
       "</style>\n",
       "<table border=\"1\" class=\"dataframe\">\n",
       "  <thead>\n",
       "    <tr style=\"text-align: right;\">\n",
       "      <th></th>\n",
       "      <th>danceability</th>\n",
       "      <th>energy</th>\n",
       "      <th>key</th>\n",
       "      <th>loudness</th>\n",
       "      <th>mode</th>\n",
       "      <th>speechiness</th>\n",
       "      <th>acousticness</th>\n",
       "      <th>instrumentalness</th>\n",
       "      <th>liveness</th>\n",
       "      <th>valence</th>\n",
       "      <th>tempo</th>\n",
       "      <th>duration_ms</th>\n",
       "      <th>time_signature</th>\n",
       "      <th>genre</th>\n",
       "    </tr>\n",
       "  </thead>\n",
       "  <tbody>\n",
       "    <tr>\n",
       "      <th>0</th>\n",
       "      <td>0.763</td>\n",
       "      <td>0.480</td>\n",
       "      <td>4</td>\n",
       "      <td>-14.593</td>\n",
       "      <td>0</td>\n",
       "      <td>0.3560</td>\n",
       "      <td>0.246000</td>\n",
       "      <td>0.000000</td>\n",
       "      <td>0.3620</td>\n",
       "      <td>0.7420</td>\n",
       "      <td>204.094</td>\n",
       "      <td>221597</td>\n",
       "      <td>4</td>\n",
       "      <td>Underground Rap</td>\n",
       "    </tr>\n",
       "    <tr>\n",
       "      <th>1</th>\n",
       "      <td>0.362</td>\n",
       "      <td>0.979</td>\n",
       "      <td>7</td>\n",
       "      <td>-5.643</td>\n",
       "      <td>1</td>\n",
       "      <td>0.8170</td>\n",
       "      <td>0.003290</td>\n",
       "      <td>0.003650</td>\n",
       "      <td>0.5470</td>\n",
       "      <td>0.0387</td>\n",
       "      <td>160.072</td>\n",
       "      <td>169255</td>\n",
       "      <td>4</td>\n",
       "      <td>Underground Rap</td>\n",
       "    </tr>\n",
       "    <tr>\n",
       "      <th>2</th>\n",
       "      <td>0.793</td>\n",
       "      <td>0.777</td>\n",
       "      <td>1</td>\n",
       "      <td>-8.026</td>\n",
       "      <td>1</td>\n",
       "      <td>0.0860</td>\n",
       "      <td>0.002250</td>\n",
       "      <td>0.062900</td>\n",
       "      <td>0.5040</td>\n",
       "      <td>0.7040</td>\n",
       "      <td>165.008</td>\n",
       "      <td>152773</td>\n",
       "      <td>4</td>\n",
       "      <td>Underground Rap</td>\n",
       "    </tr>\n",
       "    <tr>\n",
       "      <th>3</th>\n",
       "      <td>0.657</td>\n",
       "      <td>0.914</td>\n",
       "      <td>7</td>\n",
       "      <td>-4.631</td>\n",
       "      <td>1</td>\n",
       "      <td>0.1700</td>\n",
       "      <td>0.012000</td>\n",
       "      <td>0.086100</td>\n",
       "      <td>0.2330</td>\n",
       "      <td>0.6260</td>\n",
       "      <td>160.048</td>\n",
       "      <td>158825</td>\n",
       "      <td>5</td>\n",
       "      <td>Underground Rap</td>\n",
       "    </tr>\n",
       "    <tr>\n",
       "      <th>4</th>\n",
       "      <td>0.735</td>\n",
       "      <td>0.512</td>\n",
       "      <td>4</td>\n",
       "      <td>-9.889</td>\n",
       "      <td>0</td>\n",
       "      <td>0.1630</td>\n",
       "      <td>0.063200</td>\n",
       "      <td>0.000524</td>\n",
       "      <td>0.1140</td>\n",
       "      <td>0.2140</td>\n",
       "      <td>188.060</td>\n",
       "      <td>145682</td>\n",
       "      <td>4</td>\n",
       "      <td>Underground Rap</td>\n",
       "    </tr>\n",
       "    <tr>\n",
       "      <th>...</th>\n",
       "      <td>...</td>\n",
       "      <td>...</td>\n",
       "      <td>...</td>\n",
       "      <td>...</td>\n",
       "      <td>...</td>\n",
       "      <td>...</td>\n",
       "      <td>...</td>\n",
       "      <td>...</td>\n",
       "      <td>...</td>\n",
       "      <td>...</td>\n",
       "      <td>...</td>\n",
       "      <td>...</td>\n",
       "      <td>...</td>\n",
       "      <td>...</td>\n",
       "    </tr>\n",
       "    <tr>\n",
       "      <th>25804</th>\n",
       "      <td>0.528</td>\n",
       "      <td>0.693</td>\n",
       "      <td>4</td>\n",
       "      <td>-5.148</td>\n",
       "      <td>1</td>\n",
       "      <td>0.0304</td>\n",
       "      <td>0.031500</td>\n",
       "      <td>0.000345</td>\n",
       "      <td>0.1210</td>\n",
       "      <td>0.3940</td>\n",
       "      <td>150.013</td>\n",
       "      <td>269208</td>\n",
       "      <td>4</td>\n",
       "      <td>hardstyle</td>\n",
       "    </tr>\n",
       "    <tr>\n",
       "      <th>25805</th>\n",
       "      <td>0.517</td>\n",
       "      <td>0.768</td>\n",
       "      <td>0</td>\n",
       "      <td>-7.922</td>\n",
       "      <td>0</td>\n",
       "      <td>0.0479</td>\n",
       "      <td>0.022500</td>\n",
       "      <td>0.000018</td>\n",
       "      <td>0.2050</td>\n",
       "      <td>0.3830</td>\n",
       "      <td>149.928</td>\n",
       "      <td>210112</td>\n",
       "      <td>4</td>\n",
       "      <td>hardstyle</td>\n",
       "    </tr>\n",
       "    <tr>\n",
       "      <th>25806</th>\n",
       "      <td>0.361</td>\n",
       "      <td>0.821</td>\n",
       "      <td>8</td>\n",
       "      <td>-3.102</td>\n",
       "      <td>1</td>\n",
       "      <td>0.0505</td>\n",
       "      <td>0.026000</td>\n",
       "      <td>0.000242</td>\n",
       "      <td>0.3850</td>\n",
       "      <td>0.1240</td>\n",
       "      <td>154.935</td>\n",
       "      <td>234823</td>\n",
       "      <td>4</td>\n",
       "      <td>hardstyle</td>\n",
       "    </tr>\n",
       "    <tr>\n",
       "      <th>25807</th>\n",
       "      <td>0.477</td>\n",
       "      <td>0.921</td>\n",
       "      <td>6</td>\n",
       "      <td>-4.777</td>\n",
       "      <td>0</td>\n",
       "      <td>0.0392</td>\n",
       "      <td>0.000551</td>\n",
       "      <td>0.029600</td>\n",
       "      <td>0.0575</td>\n",
       "      <td>0.4880</td>\n",
       "      <td>150.042</td>\n",
       "      <td>323200</td>\n",
       "      <td>4</td>\n",
       "      <td>hardstyle</td>\n",
       "    </tr>\n",
       "    <tr>\n",
       "      <th>25808</th>\n",
       "      <td>0.529</td>\n",
       "      <td>0.945</td>\n",
       "      <td>9</td>\n",
       "      <td>-5.862</td>\n",
       "      <td>1</td>\n",
       "      <td>0.0615</td>\n",
       "      <td>0.001890</td>\n",
       "      <td>0.000055</td>\n",
       "      <td>0.4140</td>\n",
       "      <td>0.1340</td>\n",
       "      <td>155.047</td>\n",
       "      <td>162161</td>\n",
       "      <td>4</td>\n",
       "      <td>hardstyle</td>\n",
       "    </tr>\n",
       "  </tbody>\n",
       "</table>\n",
       "<p>25809 rows × 14 columns</p>\n",
       "</div>"
      ],
      "text/plain": [
       "       danceability  energy  key  loudness  mode  speechiness  acousticness  \\\n",
       "0             0.763   0.480    4   -14.593     0       0.3560      0.246000   \n",
       "1             0.362   0.979    7    -5.643     1       0.8170      0.003290   \n",
       "2             0.793   0.777    1    -8.026     1       0.0860      0.002250   \n",
       "3             0.657   0.914    7    -4.631     1       0.1700      0.012000   \n",
       "4             0.735   0.512    4    -9.889     0       0.1630      0.063200   \n",
       "...             ...     ...  ...       ...   ...          ...           ...   \n",
       "25804         0.528   0.693    4    -5.148     1       0.0304      0.031500   \n",
       "25805         0.517   0.768    0    -7.922     0       0.0479      0.022500   \n",
       "25806         0.361   0.821    8    -3.102     1       0.0505      0.026000   \n",
       "25807         0.477   0.921    6    -4.777     0       0.0392      0.000551   \n",
       "25808         0.529   0.945    9    -5.862     1       0.0615      0.001890   \n",
       "\n",
       "       instrumentalness  liveness  valence    tempo  duration_ms  \\\n",
       "0              0.000000    0.3620   0.7420  204.094       221597   \n",
       "1              0.003650    0.5470   0.0387  160.072       169255   \n",
       "2              0.062900    0.5040   0.7040  165.008       152773   \n",
       "3              0.086100    0.2330   0.6260  160.048       158825   \n",
       "4              0.000524    0.1140   0.2140  188.060       145682   \n",
       "...                 ...       ...      ...      ...          ...   \n",
       "25804          0.000345    0.1210   0.3940  150.013       269208   \n",
       "25805          0.000018    0.2050   0.3830  149.928       210112   \n",
       "25806          0.000242    0.3850   0.1240  154.935       234823   \n",
       "25807          0.029600    0.0575   0.4880  150.042       323200   \n",
       "25808          0.000055    0.4140   0.1340  155.047       162161   \n",
       "\n",
       "       time_signature            genre  \n",
       "0                   4  Underground Rap  \n",
       "1                   4  Underground Rap  \n",
       "2                   4  Underground Rap  \n",
       "3                   5  Underground Rap  \n",
       "4                   4  Underground Rap  \n",
       "...               ...              ...  \n",
       "25804               4        hardstyle  \n",
       "25805               4        hardstyle  \n",
       "25806               4        hardstyle  \n",
       "25807               4        hardstyle  \n",
       "25808               4        hardstyle  \n",
       "\n",
       "[25809 rows x 14 columns]"
      ]
     },
     "execution_count": 2,
     "metadata": {},
     "output_type": "execute_result"
    }
   ],
   "source": [
    "df = data\n",
    "df"
   ]
  },
  {
   "cell_type": "code",
   "execution_count": 3,
   "metadata": {
    "scrolled": false
   },
   "outputs": [
    {
     "name": "stdout",
     "output_type": "stream",
     "text": [
      "<class 'pandas.core.frame.DataFrame'>\n",
      "RangeIndex: 25809 entries, 0 to 25808\n",
      "Data columns (total 14 columns):\n",
      " #   Column            Non-Null Count  Dtype  \n",
      "---  ------            --------------  -----  \n",
      " 0   danceability      25809 non-null  float64\n",
      " 1   energy            25809 non-null  float64\n",
      " 2   key               25809 non-null  int64  \n",
      " 3   loudness          25809 non-null  float64\n",
      " 4   mode              25809 non-null  int64  \n",
      " 5   speechiness       25809 non-null  float64\n",
      " 6   acousticness      25809 non-null  float64\n",
      " 7   instrumentalness  25809 non-null  float64\n",
      " 8   liveness          25809 non-null  float64\n",
      " 9   valence           25809 non-null  float64\n",
      " 10  tempo             25809 non-null  float64\n",
      " 11  duration_ms       25809 non-null  int64  \n",
      " 12  time_signature    25809 non-null  int64  \n",
      " 13  genre             25809 non-null  object \n",
      "dtypes: float64(9), int64(4), object(1)\n",
      "memory usage: 2.8+ MB\n"
     ]
    }
   ],
   "source": [
    "df.info()"
   ]
  },
  {
   "cell_type": "code",
   "execution_count": 4,
   "metadata": {},
   "outputs": [],
   "source": [
    "features = df.columns[:12]\n",
    "genres = np.unique(df.genre)"
   ]
  },
  {
   "cell_type": "code",
   "execution_count": 5,
   "metadata": {},
   "outputs": [
    {
     "data": {
      "text/plain": [
       "array(['Emo', 'Pop', 'Underground Rap', 'dnb', 'hardstyle', 'psytrance',\n",
       "       'techhouse', 'techno', 'trance'], dtype=object)"
      ]
     },
     "execution_count": 5,
     "metadata": {},
     "output_type": "execute_result"
    }
   ],
   "source": [
    "genres"
   ]
  },
  {
   "cell_type": "code",
   "execution_count": 6,
   "metadata": {},
   "outputs": [],
   "source": [
    "X = data[features].copy()\n",
    "y = LabelEncoder().fit_transform(data['genre'])"
   ]
  },
  {
   "cell_type": "code",
   "execution_count": 7,
   "metadata": {},
   "outputs": [],
   "source": [
    "X_train, X_test, y_train, y_test = train_test_split(X, y, test_size=0.2, stratify=y, random_state=21, shuffle=True)\n",
    "X_train, X_val, y_train, y_val = train_test_split(X_train, y_train, test_size=0.25, stratify=y_train, random_state=21, shuffle=True)"
   ]
  },
  {
   "cell_type": "code",
   "execution_count": 8,
   "metadata": {},
   "outputs": [],
   "source": [
    "def plot_confusion_matrix(cm, classes, normalize=False, title='Confusion matrix', cmap=plt.cm.Blues):\n",
    "    \"\"\"\n",
    "    This function prints and plots the confusion matrix.\n",
    "    Normalization can be applied by setting `normalize=True`.\n",
    "    \"\"\"\n",
    "    plt.figure(figsize=(8,8))\n",
    "    plt.imshow(cm, interpolation='nearest', cmap=cmap)\n",
    "    plt.title(title)\n",
    "    plt.colorbar()\n",
    "    tick_marks = np.arange(len(classes))\n",
    "    plt.xticks(tick_marks, classes, rotation=45)\n",
    "    plt.yticks(tick_marks, classes)\n",
    "\n",
    "    if normalize:\n",
    "        cm = cm.astype('float') / cm.sum(axis=1)[:, np.newaxis]\n",
    "        print(\"Normalized confusion matrix\")\n",
    "    else:\n",
    "        print('Confusion matrix, without normalization')\n",
    "\n",
    "    print(cm)\n",
    "\n",
    "    thresh = cm.max() / 2.\n",
    "    for i, j in itertools.product(range(cm.shape[0]), range(cm.shape[1])):\n",
    "        plt.text(j, i, cm[i, j],\n",
    "                 horizontalalignment=\"center\",\n",
    "                 color=\"white\" if cm[i, j] > thresh else \"black\")\n",
    "\n",
    "    plt.tight_layout()\n",
    "    plt.ylabel('True Label')\n",
    "    plt.xlabel('Predicted Label')"
   ]
  },
  {
   "cell_type": "code",
   "execution_count": 9,
   "metadata": {},
   "outputs": [],
   "source": [
    "def one_hot_encoder(true_labels, num_records, num_classes):\n",
    "    temp = np.array(true_labels[:num_records])\n",
    "    true_labels = np.zeros((num_records, num_classes))\n",
    "    true_labels[np.arange(num_records), temp] = 1\n",
    "    return true_labels"
   ]
  },
  {
   "cell_type": "code",
   "execution_count": 10,
   "metadata": {},
   "outputs": [],
   "source": [
    "def display_results(y_test, pred_probs, cm = True):\n",
    "    pred = np.argmax(pred_probs, axis=-1)\n",
    "    one_hot_true = one_hot_encoder(y_test, len(pred), len(genres))\n",
    "    print('Val Set Accuracy =  {0:.2f}'.format(accuracy_score(y_test, pred)))\n",
    "    print('Val Set F-score =  {0:.2f}'.format(f1_score(y_test, pred, average='macro')))\n",
    "    print('ROC AUC = {0:.3f}'.format(roc_auc_score(y_true=one_hot_true, y_score=pred_probs, average='macro')))\n",
    "    if cm:\n",
    "        plot_confusion_matrix(confusion_matrix(y_test, pred), classes=genres)"
   ]
  },
  {
   "cell_type": "code",
   "execution_count": 11,
   "metadata": {},
   "outputs": [],
   "source": [
    "rf = RandomForestClassifier(n_estimators = 400, random_state = 21)"
   ]
  },
  {
   "cell_type": "markdown",
   "metadata": {},
   "source": [
    "## Validation Set"
   ]
  },
  {
   "cell_type": "code",
   "execution_count": 13,
   "metadata": {},
   "outputs": [
    {
     "data": {
      "text/plain": [
       "RandomForestClassifier(n_estimators=400, random_state=21)"
      ]
     },
     "execution_count": 13,
     "metadata": {},
     "output_type": "execute_result"
    }
   ],
   "source": [
    "rf.fit(X_train, y_train)"
   ]
  },
  {
   "cell_type": "code",
   "execution_count": 14,
   "metadata": {},
   "outputs": [],
   "source": [
    "rf_probs = rf.predict_proba(X_val)"
   ]
  },
  {
   "cell_type": "code",
   "execution_count": 15,
   "metadata": {},
   "outputs": [
    {
     "name": "stdout",
     "output_type": "stream",
     "text": [
      "Test Set Accuracy =  0.91\n",
      "Test Set F-score =  0.83\n",
      "ROC AUC = 0.984\n",
      "Confusion matrix, without normalization\n",
      "[[ 246   10   47    4   18    0    1    1    9]\n",
      " [  23   14   47    0    2    0    3    0    3]\n",
      " [  12    5 1132    4    9    0    7    0    6]\n",
      " [   3    0    5  585    0    0    0    0    0]\n",
      " [   3    0    4    0  570    9    0    0    1]\n",
      " [   0    0    2    0    5  537    1   13   35]\n",
      " [   2    1    9    0    0    0  547   30    6]\n",
      " [   0    0    3    0    0   13   41  514   20]\n",
      " [   7    0    5    0    0   17   10   28  533]]\n"
     ]
    },
    {
     "data": {
      "image/png": "[encoded data removed]",
      "text/plain": [
       "<Figure size 576x576 with 2 Axes>"
      ]
     },
     "metadata": {
      "needs_background": "light"
     },
     "output_type": "display_data"
    }
   ],
   "source": [
    "display_results(y_val, rf_probs, cm=True)"
   ]
  },
  {
   "cell_type": "markdown",
   "metadata": {},
   "source": [
    "## Test Set"
   ]
  },
  {
   "cell_type": "code",
   "execution_count": null,
   "metadata": {},
   "outputs": [],
   "source": [
    "rf.fit(X_train, y_train)"
   ]
  },
  {
   "cell_type": "code",
   "execution_count": 16,
   "metadata": {},
   "outputs": [],
   "source": [
    "rf_probs = rf.predict_proba(X_test)"
   ]
  },
  {
   "cell_type": "code",
   "execution_count": 17,
   "metadata": {
    "scrolled": false
   },
   "outputs": [
    {
     "name": "stdout",
     "output_type": "stream",
     "text": [
      "Test Set Accuracy =  0.92\n",
      "Test Set F-score =  0.84\n",
      "ROC AUC = 0.986\n",
      "Confusion matrix, without normalization\n",
      "[[ 256    8   51    2   10    1    1    0    7]\n",
      " [  20   13   52    1    0    0    3    0    3]\n",
      " [  19    2 1133    3    3    0   10    0    5]\n",
      " [   2    0    3  589    0    0    0    0    0]\n",
      " [   4    0    5    0  573    5    0    0    0]\n",
      " [   0    0    1    0    0  550    0    9   32]\n",
      " [   1    1    9    0    0    0  544   34    6]\n",
      " [   0    0    2    0    0   12   40  514   23]\n",
      " [   3    0    6    0    0   11    2   26  552]]\n"
     ]
    },
    {
     "data": {
      "image/png": "[encoded data removed]",
      "text/plain": [
       "<Figure size 576x576 with 2 Axes>"
      ]
     },
     "metadata": {
      "needs_background": "light"
     },
     "output_type": "display_data"
    }
   ],
   "source": [
    "display_results(y_test, rf_probs, cm=True)"
   ]
  }
 ],
 "metadata": {
  "kernelspec": {
   "display_name": "Python 3",
   "language": "python",
   "name": "python3"
  },
  "language_info": {
   "codemirror_mode": {
    "name": "ipython",
    "version": 3
   },
   "file_extension": ".py",
   "mimetype": "text/x-python",
   "name": "python",
   "nbconvert_exporter": "python",
   "pygments_lexer": "ipython3",
   "version": "3.8.5"
  }
 },
 "nbformat": 4,
 "nbformat_minor": 4
}
